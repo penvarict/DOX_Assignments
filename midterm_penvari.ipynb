{
  "nbformat": 4,
  "nbformat_minor": 0,
  "metadata": {
    "colab": {
      "name": "midterm.ipynb",
      "provenance": [],
      "collapsed_sections": [],
      "mount_file_id": "1PeYar6FOgNCAGaCNfAsSUjuNREaQgKLR",
      "authorship_tag": "ABX9TyMzXL/Qp7TivokB2zm5bjvX",
      "include_colab_link": true
    },
    "kernelspec": {
      "name": "python3",
      "display_name": "Python 3"
    },
    "language_info": {
      "name": "python"
    }
  },
  "cells": [
    {
      "cell_type": "markdown",
      "metadata": {
        "id": "view-in-github",
        "colab_type": "text"
      },
      "source": [
        "<a href=\"https://colab.research.google.com/github/penvarict/DOX_Assignments/blob/main/midterm_penvari.ipynb\" target=\"_parent\"><img src=\"https://colab.research.google.com/assets/colab-badge.svg\" alt=\"Open In Colab\"/></a>"
      ]
    },
    {
      "cell_type": "markdown",
      "source": [
        "## Midterm, Fuel Additive Case Study\n",
        "**Summary of Answers at the bottom**\\\n",
        "**By Charlie Penvari**"
      ],
      "metadata": {
        "id": "wythVaHcMzx5"
      }
    },
    {
      "cell_type": "code",
      "execution_count": 1,
      "metadata": {
        "id": "sawMNLY5Yrtg"
      },
      "outputs": [],
      "source": [
        "from scipy.stats import f_oneway, norm, normaltest\n",
        "from matplotlib import pyplot as plt\n",
        "import numpy as np\n",
        "import pandas as pd\n"
      ]
    },
    {
      "cell_type": "code",
      "source": [
        "# I have uploaded the file to colab with the file named as FuelAddits.csv. \n",
        "# To rerun this notebook, upload the CSV to the default (/content) directory, and \n",
        "# change the file name below. \n",
        "fuel_data_frame_raw = pd.read_csv('/content/FuelAddits.csv')\n",
        "fuel_data_frame_raw"
      ],
      "metadata": {
        "colab": {
          "base_uri": "https://localhost:8080/",
          "height": 677
        },
        "id": "SnVQDz93bghs",
        "outputId": "bacb87aa-4d77-42a6-d80b-f19cc5f5d5e3"
      },
      "execution_count": 11,
      "outputs": [
        {
          "output_type": "execute_result",
          "data": {
            "text/plain": [
              "    Unnamed: 0  Additive  Car  Mileage\n",
              "0            1         2    1       24\n",
              "1            2         3    1       22\n",
              "2            3         4    1       23\n",
              "3            4         5    1       21\n",
              "4            5         1    2       27\n",
              "5            6         2    2       24\n",
              "6            7         4    2       21\n",
              "7            8         5    2       22\n",
              "8            9         1    3       24\n",
              "9           10         3    3       23\n",
              "10          11         4    3       21\n",
              "11          12         5    3       20\n",
              "12          13         1    4       23\n",
              "13          14         2    4       23\n",
              "14          15         3    4       22\n",
              "15          16         4    4       22\n",
              "16          17         1    5       22\n",
              "17          18         2    5       20\n",
              "18          19         3    5       19\n",
              "19          20         5    5       18"
            ],
            "text/html": [
              "\n",
              "  <div id=\"df-312fc6d9-6ce2-429d-819f-3aa5204bb440\">\n",
              "    <div class=\"colab-df-container\">\n",
              "      <div>\n",
              "<style scoped>\n",
              "    .dataframe tbody tr th:only-of-type {\n",
              "        vertical-align: middle;\n",
              "    }\n",
              "\n",
              "    .dataframe tbody tr th {\n",
              "        vertical-align: top;\n",
              "    }\n",
              "\n",
              "    .dataframe thead th {\n",
              "        text-align: right;\n",
              "    }\n",
              "</style>\n",
              "<table border=\"1\" class=\"dataframe\">\n",
              "  <thead>\n",
              "    <tr style=\"text-align: right;\">\n",
              "      <th></th>\n",
              "      <th>Unnamed: 0</th>\n",
              "      <th>Additive</th>\n",
              "      <th>Car</th>\n",
              "      <th>Mileage</th>\n",
              "    </tr>\n",
              "  </thead>\n",
              "  <tbody>\n",
              "    <tr>\n",
              "      <th>0</th>\n",
              "      <td>1</td>\n",
              "      <td>2</td>\n",
              "      <td>1</td>\n",
              "      <td>24</td>\n",
              "    </tr>\n",
              "    <tr>\n",
              "      <th>1</th>\n",
              "      <td>2</td>\n",
              "      <td>3</td>\n",
              "      <td>1</td>\n",
              "      <td>22</td>\n",
              "    </tr>\n",
              "    <tr>\n",
              "      <th>2</th>\n",
              "      <td>3</td>\n",
              "      <td>4</td>\n",
              "      <td>1</td>\n",
              "      <td>23</td>\n",
              "    </tr>\n",
              "    <tr>\n",
              "      <th>3</th>\n",
              "      <td>4</td>\n",
              "      <td>5</td>\n",
              "      <td>1</td>\n",
              "      <td>21</td>\n",
              "    </tr>\n",
              "    <tr>\n",
              "      <th>4</th>\n",
              "      <td>5</td>\n",
              "      <td>1</td>\n",
              "      <td>2</td>\n",
              "      <td>27</td>\n",
              "    </tr>\n",
              "    <tr>\n",
              "      <th>5</th>\n",
              "      <td>6</td>\n",
              "      <td>2</td>\n",
              "      <td>2</td>\n",
              "      <td>24</td>\n",
              "    </tr>\n",
              "    <tr>\n",
              "      <th>6</th>\n",
              "      <td>7</td>\n",
              "      <td>4</td>\n",
              "      <td>2</td>\n",
              "      <td>21</td>\n",
              "    </tr>\n",
              "    <tr>\n",
              "      <th>7</th>\n",
              "      <td>8</td>\n",
              "      <td>5</td>\n",
              "      <td>2</td>\n",
              "      <td>22</td>\n",
              "    </tr>\n",
              "    <tr>\n",
              "      <th>8</th>\n",
              "      <td>9</td>\n",
              "      <td>1</td>\n",
              "      <td>3</td>\n",
              "      <td>24</td>\n",
              "    </tr>\n",
              "    <tr>\n",
              "      <th>9</th>\n",
              "      <td>10</td>\n",
              "      <td>3</td>\n",
              "      <td>3</td>\n",
              "      <td>23</td>\n",
              "    </tr>\n",
              "    <tr>\n",
              "      <th>10</th>\n",
              "      <td>11</td>\n",
              "      <td>4</td>\n",
              "      <td>3</td>\n",
              "      <td>21</td>\n",
              "    </tr>\n",
              "    <tr>\n",
              "      <th>11</th>\n",
              "      <td>12</td>\n",
              "      <td>5</td>\n",
              "      <td>3</td>\n",
              "      <td>20</td>\n",
              "    </tr>\n",
              "    <tr>\n",
              "      <th>12</th>\n",
              "      <td>13</td>\n",
              "      <td>1</td>\n",
              "      <td>4</td>\n",
              "      <td>23</td>\n",
              "    </tr>\n",
              "    <tr>\n",
              "      <th>13</th>\n",
              "      <td>14</td>\n",
              "      <td>2</td>\n",
              "      <td>4</td>\n",
              "      <td>23</td>\n",
              "    </tr>\n",
              "    <tr>\n",
              "      <th>14</th>\n",
              "      <td>15</td>\n",
              "      <td>3</td>\n",
              "      <td>4</td>\n",
              "      <td>22</td>\n",
              "    </tr>\n",
              "    <tr>\n",
              "      <th>15</th>\n",
              "      <td>16</td>\n",
              "      <td>4</td>\n",
              "      <td>4</td>\n",
              "      <td>22</td>\n",
              "    </tr>\n",
              "    <tr>\n",
              "      <th>16</th>\n",
              "      <td>17</td>\n",
              "      <td>1</td>\n",
              "      <td>5</td>\n",
              "      <td>22</td>\n",
              "    </tr>\n",
              "    <tr>\n",
              "      <th>17</th>\n",
              "      <td>18</td>\n",
              "      <td>2</td>\n",
              "      <td>5</td>\n",
              "      <td>20</td>\n",
              "    </tr>\n",
              "    <tr>\n",
              "      <th>18</th>\n",
              "      <td>19</td>\n",
              "      <td>3</td>\n",
              "      <td>5</td>\n",
              "      <td>19</td>\n",
              "    </tr>\n",
              "    <tr>\n",
              "      <th>19</th>\n",
              "      <td>20</td>\n",
              "      <td>5</td>\n",
              "      <td>5</td>\n",
              "      <td>18</td>\n",
              "    </tr>\n",
              "  </tbody>\n",
              "</table>\n",
              "</div>\n",
              "      <button class=\"colab-df-convert\" onclick=\"convertToInteractive('df-312fc6d9-6ce2-429d-819f-3aa5204bb440')\"\n",
              "              title=\"Convert this dataframe to an interactive table.\"\n",
              "              style=\"display:none;\">\n",
              "        \n",
              "  <svg xmlns=\"http://www.w3.org/2000/svg\" height=\"24px\"viewBox=\"0 0 24 24\"\n",
              "       width=\"24px\">\n",
              "    <path d=\"M0 0h24v24H0V0z\" fill=\"none\"/>\n",
              "    <path d=\"M18.56 5.44l.94 2.06.94-2.06 2.06-.94-2.06-.94-.94-2.06-.94 2.06-2.06.94zm-11 1L8.5 8.5l.94-2.06 2.06-.94-2.06-.94L8.5 2.5l-.94 2.06-2.06.94zm10 10l.94 2.06.94-2.06 2.06-.94-2.06-.94-.94-2.06-.94 2.06-2.06.94z\"/><path d=\"M17.41 7.96l-1.37-1.37c-.4-.4-.92-.59-1.43-.59-.52 0-1.04.2-1.43.59L10.3 9.45l-7.72 7.72c-.78.78-.78 2.05 0 2.83L4 21.41c.39.39.9.59 1.41.59.51 0 1.02-.2 1.41-.59l7.78-7.78 2.81-2.81c.8-.78.8-2.07 0-2.86zM5.41 20L4 18.59l7.72-7.72 1.47 1.35L5.41 20z\"/>\n",
              "  </svg>\n",
              "      </button>\n",
              "      \n",
              "  <style>\n",
              "    .colab-df-container {\n",
              "      display:flex;\n",
              "      flex-wrap:wrap;\n",
              "      gap: 12px;\n",
              "    }\n",
              "\n",
              "    .colab-df-convert {\n",
              "      background-color: #E8F0FE;\n",
              "      border: none;\n",
              "      border-radius: 50%;\n",
              "      cursor: pointer;\n",
              "      display: none;\n",
              "      fill: #1967D2;\n",
              "      height: 32px;\n",
              "      padding: 0 0 0 0;\n",
              "      width: 32px;\n",
              "    }\n",
              "\n",
              "    .colab-df-convert:hover {\n",
              "      background-color: #E2EBFA;\n",
              "      box-shadow: 0px 1px 2px rgba(60, 64, 67, 0.3), 0px 1px 3px 1px rgba(60, 64, 67, 0.15);\n",
              "      fill: #174EA6;\n",
              "    }\n",
              "\n",
              "    [theme=dark] .colab-df-convert {\n",
              "      background-color: #3B4455;\n",
              "      fill: #D2E3FC;\n",
              "    }\n",
              "\n",
              "    [theme=dark] .colab-df-convert:hover {\n",
              "      background-color: #434B5C;\n",
              "      box-shadow: 0px 1px 3px 1px rgba(0, 0, 0, 0.15);\n",
              "      filter: drop-shadow(0px 1px 2px rgba(0, 0, 0, 0.3));\n",
              "      fill: #FFFFFF;\n",
              "    }\n",
              "  </style>\n",
              "\n",
              "      <script>\n",
              "        const buttonEl =\n",
              "          document.querySelector('#df-312fc6d9-6ce2-429d-819f-3aa5204bb440 button.colab-df-convert');\n",
              "        buttonEl.style.display =\n",
              "          google.colab.kernel.accessAllowed ? 'block' : 'none';\n",
              "\n",
              "        async function convertToInteractive(key) {\n",
              "          const element = document.querySelector('#df-312fc6d9-6ce2-429d-819f-3aa5204bb440');\n",
              "          const dataTable =\n",
              "            await google.colab.kernel.invokeFunction('convertToInteractive',\n",
              "                                                     [key], {});\n",
              "          if (!dataTable) return;\n",
              "\n",
              "          const docLinkHtml = 'Like what you see? Visit the ' +\n",
              "            '<a target=\"_blank\" href=https://colab.research.google.com/notebooks/data_table.ipynb>data table notebook</a>'\n",
              "            + ' to learn more about interactive tables.';\n",
              "          element.innerHTML = '';\n",
              "          dataTable['output_type'] = 'display_data';\n",
              "          await google.colab.output.renderOutput(dataTable, element);\n",
              "          const docLink = document.createElement('div');\n",
              "          docLink.innerHTML = docLinkHtml;\n",
              "          element.appendChild(docLink);\n",
              "        }\n",
              "      </script>\n",
              "    </div>\n",
              "  </div>\n",
              "  "
            ]
          },
          "metadata": {},
          "execution_count": 11
        }
      ]
    },
    {
      "cell_type": "markdown",
      "source": [
        "**Counts of Data Items**\\\n",
        "b = 5 (the blocks, i.e, the cars)\\\n",
        "n = 20 (total replicants)\\\n",
        "a = 5 (the treatments, i.e, the additives) \\"
      ],
      "metadata": {
        "id": "eBF-3tY3oKS9"
      }
    },
    {
      "cell_type": "code",
      "source": [
        "b = 5\n",
        "n = 20\n",
        "a = 5"
      ],
      "metadata": {
        "id": "k0bmcsSYosEj"
      },
      "execution_count": 3,
      "outputs": []
    },
    {
      "cell_type": "markdown",
      "source": [
        "### We want to extract milage data for each additive. We can also analyse the blocks themselves, we extract the milage of each car in the experiment. "
      ],
      "metadata": {
        "id": "DzlUQEZbhDNC"
      }
    },
    {
      "cell_type": "code",
      "source": [
        "# drop the labesl col, use numpy's labels.\n",
        "\n",
        "fuel_data_frame_corrected = fuel_data_frame_raw.iloc[:, 1:] \n",
        "\n",
        "def extractGroup(frame , colVal, colName = 'Additive'):\n",
        "  return frame[frame[colName] == colVal]\n",
        "\n",
        "# extract the mileage data from each respective treatment \n",
        "additive1 = extractGroup(fuel_data_frame_corrected, 1)\n",
        "additive2 = extractGroup(fuel_data_frame_corrected, 2)\n",
        "additive3 = extractGroup(fuel_data_frame_corrected, 3)\n",
        "additive4 = extractGroup(fuel_data_frame_corrected, 4)\n",
        "additive5 = extractGroup(fuel_data_frame_corrected, 5)\n",
        "\n",
        "# extract the mileage data from each respective block, (the car)\n",
        "car1 = extractGroup(fuel_data_frame_corrected, 1, colName=\"Car\")\n",
        "car2 = extractGroup(fuel_data_frame_corrected, 2, colName=\"Car\")\n",
        "car3 = extractGroup(fuel_data_frame_corrected, 3, colName=\"Car\")\n",
        "car4 = extractGroup(fuel_data_frame_corrected, 4, colName=\"Car\")\n",
        "car5 = extractGroup(fuel_data_frame_corrected, 5, colName=\"Car\")\n",
        "\n",
        "#now with three dataframes, each individually by additive\n",
        "print(additive1, additive2, additive3, additive4, additive5, sep = '\\n')\n",
        "print()\n",
        "print(car1, car2, car3, car4, car5, sep = '\\n')"
      ],
      "metadata": {
        "id": "Ccp32xuSbgC-",
        "colab": {
          "base_uri": "https://localhost:8080/",
          "height": 0
        },
        "outputId": "9c16509b-3a41-405f-8b62-0042bc79a761"
      },
      "execution_count": 4,
      "outputs": [
        {
          "output_type": "stream",
          "name": "stdout",
          "text": [
            "    Additive  Car  Mileage\n",
            "4          1    2       27\n",
            "8          1    3       24\n",
            "12         1    4       23\n",
            "16         1    5       22\n",
            "    Additive  Car  Mileage\n",
            "0          2    1       24\n",
            "5          2    2       24\n",
            "13         2    4       23\n",
            "17         2    5       20\n",
            "    Additive  Car  Mileage\n",
            "1          3    1       22\n",
            "9          3    3       23\n",
            "14         3    4       22\n",
            "18         3    5       19\n",
            "    Additive  Car  Mileage\n",
            "2          4    1       23\n",
            "6          4    2       21\n",
            "10         4    3       21\n",
            "15         4    4       22\n",
            "    Additive  Car  Mileage\n",
            "3          5    1       21\n",
            "7          5    2       22\n",
            "11         5    3       20\n",
            "19         5    5       18\n",
            "\n",
            "   Additive  Car  Mileage\n",
            "0         2    1       24\n",
            "1         3    1       22\n",
            "2         4    1       23\n",
            "3         5    1       21\n",
            "   Additive  Car  Mileage\n",
            "4         1    2       27\n",
            "5         2    2       24\n",
            "6         4    2       21\n",
            "7         5    2       22\n",
            "    Additive  Car  Mileage\n",
            "8          1    3       24\n",
            "9          3    3       23\n",
            "10         4    3       21\n",
            "11         5    3       20\n",
            "    Additive  Car  Mileage\n",
            "12         1    4       23\n",
            "13         2    4       23\n",
            "14         3    4       22\n",
            "15         4    4       22\n",
            "    Additive  Car  Mileage\n",
            "16         1    5       22\n",
            "17         2    5       20\n",
            "18         3    5       19\n",
            "19         5    5       18\n"
          ]
        }
      ]
    },
    {
      "cell_type": "markdown",
      "source": [
        "### Evaluation of Normality of Data \n",
        "### QQ Plot & Histogram"
      ],
      "metadata": {
        "id": "eDAZuf4Hn2bt"
      }
    },
    {
      "cell_type": "code",
      "source": [
        "\n",
        "qnorm =norm.ppf(np.linspace(.1,.9 ,num = n))\n",
        "sorted_milage = np.sort(fuel_data_frame_corrected['Mileage']) \n",
        "ideal = qnorm\n",
        "exp_data = sorted_milage\n",
        "\n",
        "#configure  QQ plot\n",
        "qqfig, qqax = plt.subplots()\n",
        "qqax.scatter(ideal, exp_data)\n",
        "qqax.set_ylabel(\"Mileage Data\")\n",
        "qqax.set_xlabel(\"Quantiles\")\n",
        "plt.show()\n",
        "\n",
        "# historgram plot \n",
        "distfig, distax = plt.subplots()\n",
        "distax.hist(exp_data, density=True)\n",
        "distax.set_xlabel(\"Mileage Data\")\n",
        "distax.set_ylabel(\"Frequency\")\n",
        "plt.show()\n"
      ],
      "metadata": {
        "cellView": "code",
        "id": "iPYdcAZTnAPm",
        "colab": {
          "base_uri": "https://localhost:8080/",
          "height": 541
        },
        "outputId": "e09e3e1f-cc6e-4e5f-d582-5c53f592c7bf"
      },
      "execution_count": 5,
      "outputs": [
        {
          "output_type": "display_data",
          "data": {
            "text/plain": [
              "<Figure size 432x288 with 1 Axes>"
            ],
            "image/png": "[encoded data removed]"
          },
          "metadata": {
            "needs_background": "light"
          }
        },
        {
          "output_type": "display_data",
          "data": {
            "text/plain": [
              "<Figure size 432x288 with 1 Axes>"
            ],
            "image/png": "[encoded data removed]"
          },
          "metadata": {
            "needs_background": "light"
          }
        }
      ]
    },
    {
      "cell_type": "markdown",
      "source": [
        "### Normal test for normality of our fuel mileage data. \n",
        "This test is based off of the D'Agostino-Pearson normality test. It will work on data sets that have many repeats.  "
      ],
      "metadata": {
        "id": "zF6RN11DIF7z"
      }
    },
    {
      "cell_type": "markdown",
      "source": [
        "Note that the D'Agostino-Pearson test has the null hypothesis that the data is drawn from a normal population. As such, a high p-value means that we are confident the data was drawn from a normal population. See: https://docs.scipy.org/doc/scipy/reference/generated/scipy.stats.normaltest.html "
      ],
      "metadata": {
        "id": "v_easqSOMcOy"
      }
    },
    {
      "cell_type": "code",
      "source": [
        "norm_test = normaltest(exp_data)\n",
        "print(norm_test[1])"
      ],
      "metadata": {
        "id": "_Zbx6ehfIKUY",
        "colab": {
          "base_uri": "https://localhost:8080/",
          "height": 0
        },
        "outputId": "caeaae49-a3bc-4175-ee75-0bf28ba01450"
      },
      "execution_count": 6,
      "outputs": [
        {
          "output_type": "stream",
          "name": "stdout",
          "text": [
            "0.4629921548961726\n"
          ]
        }
      ]
    },
    {
      "cell_type": "markdown",
      "source": [
        "### Box Plot by Treatment"
      ],
      "metadata": {
        "id": "Xd-XUpYQKF6k"
      }
    },
    {
      "cell_type": "code",
      "source": [
        "boxfig, boxax = plt.subplots()\n",
        "boxax.set_xlabel(\"Additive #\")\n",
        "boxax.set_ylabel(\"Mileage\")\n",
        "boxax.set_title(\"Mileage by Additive Type\")\n",
        "\n",
        "boxax.boxplot([additive1['Mileage'], additive2['Mileage'], additive3['Mileage'], additive4['Mileage'], additive5['Mileage']])\n",
        "boxfig.show()"
      ],
      "metadata": {
        "id": "-OUUWMqQKEWR",
        "colab": {
          "base_uri": "https://localhost:8080/",
          "height": 295
        },
        "outputId": "7eb3ac55-c4fa-44fa-825a-d327d96a1b48"
      },
      "execution_count": 7,
      "outputs": [
        {
          "output_type": "display_data",
          "data": {
            "text/plain": [
              "<Figure size 432x288 with 1 Axes>"
            ],
            "image/png": "[encoded data removed]"
          },
          "metadata": {
            "needs_background": "light"
          }
        }
      ]
    },
    {
      "cell_type": "markdown",
      "source": [
        "### Box Plot by Block (Car)"
      ],
      "metadata": {
        "id": "0zi6OqmEDDPp"
      }
    },
    {
      "cell_type": "code",
      "source": [
        "boxfig, boxax = plt.subplots()\n",
        "boxax.set_xlabel(\"Car #\")\n",
        "boxax.set_ylabel(\"Mileage\")\n",
        "boxax.set_title(\"Mileage by Car\")\n",
        "\n",
        "boxax.boxplot([car1['Mileage'], car2['Mileage'], car3['Mileage'], car4['Mileage'], car5['Mileage']])\n",
        "boxfig.show()"
      ],
      "metadata": {
        "colab": {
          "base_uri": "https://localhost:8080/",
          "height": 295
        },
        "id": "JPBpIix0Cz0x",
        "outputId": "71b8a74c-45b2-439a-c28a-e3d640461c53"
      },
      "execution_count": 8,
      "outputs": [
        {
          "output_type": "display_data",
          "data": {
            "text/plain": [
              "<Figure size 432x288 with 1 Axes>"
            ],
            "image/png": "[encoded data removed]"
          },
          "metadata": {
            "needs_background": "light"
          }
        }
      ]
    },
    {
      "cell_type": "markdown",
      "source": [
        "### Calculate F-Statistic, Comparing Milage by Additive (treatments).\n",
        "\n",
        "\n",
        "\n"
      ],
      "metadata": {
        "id": "0WhIs4xzzUNX"
      }
    },
    {
      "cell_type": "code",
      "source": [
        "f_oneway(additive1['Mileage'], additive2['Mileage'],additive3['Mileage'],additive4['Mileage'], additive5['Mileage'])"
      ],
      "metadata": {
        "id": "uesmXasLzIaE",
        "colab": {
          "base_uri": "https://localhost:8080/",
          "height": 0
        },
        "outputId": "f944006e-ec7a-4312-e04a-ac8779fc5073"
      },
      "execution_count": 9,
      "outputs": [
        {
          "output_type": "execute_result",
          "data": {
            "text/plain": [
              "F_onewayResult(statistic=2.62707182320442, pvalue=0.07625403230100856)"
            ]
          },
          "metadata": {},
          "execution_count": 9
        }
      ]
    },
    {
      "cell_type": "markdown",
      "source": [
        "### Calculate F-Statistic, Comparing Milage by Car (blocks)."
      ],
      "metadata": {
        "id": "turGSrapR6Ic"
      }
    },
    {
      "cell_type": "code",
      "source": [
        "f_oneway(car1['Mileage'], car2['Mileage'], car3['Mileage'], car4['Mileage'], car5['Mileage'])"
      ],
      "metadata": {
        "colab": {
          "base_uri": "https://localhost:8080/",
          "height": 0
        },
        "id": "Go3UpX0CR47K",
        "outputId": "abd75166-7159-4289-ae57-449cfc82e619"
      },
      "execution_count": 10,
      "outputs": [
        {
          "output_type": "execute_result",
          "data": {
            "text/plain": [
              "F_onewayResult(statistic=2.557377049180328, pvalue=0.08181830794068091)"
            ]
          },
          "metadata": {},
          "execution_count": 10
        }
      ]
    },
    {
      "cell_type": "markdown",
      "source": [
        "## Summary of Answers\n",
        "\n",
        "\n",
        "**1. What is the null hypothesis?**\\\n",
        "Any particular fuel additive, specifically the 5 in the experiment, have no meaningful (or significant) effect on the mean of mileages between the 5 cars. Within the context of ANOVA, H_0 (the null hypothesis) is stating that all the treatment means (means of mileage with each additive) are the same. The alternate hypothesis being that at least one mean of mileages for a particualr additive is different. \n",
        "\n",
        "**2. Do you accept or reject H0?  To what level of certainty?** \\\n",
        "Given an arbritrary significance level of .05, that is, α = .05 for a one tail f distribution ANOVA test, we cannot reject the null hypothesis. With p = .076, which is larger than .05, we must presume that there is not a significant amount of evidence to show a relationship between fuel additive and mileage. \\\n",
        "\n",
        "A p-value of .076 indicates a 7.6% chance that we would have observed the data that we currently have, assuming that the null hypothesis is true. With a significance level of .05, or rather a 5% chance that we would have observed the data that we have, we want to be 95% sure that the data the we collected wasn't a 'rare' observation.\n",
        "\n",
        "It is worth mentioning that with a p-value that is low, we can hypothesize that there may be moderate relationship between fuel additive and mileage. The box plot for the additives show that additive 1 and 2 have better mileages than the rest. 3 and 4 look the same, and 5 looks the worst. Depending on what level of significance we want to see, the box-plot and the low p-value of .076 may be good enough to say that there is an effect with respect to fuel additive. \n",
        "\n",
        "*But, if we want to be at least 95% confident that there is a relationship, the data in this experiment does not have enough evidence to support that.* \n",
        "\n",
        "\n",
        "**3. Is ANOVA a suitable method to analyze the data?  Prove or disprove using plots, calculations, or any other means befitting a data analyst.**\\\n",
        "In the QQ-Plot we can see that the data does follow a linear trend. Further, with the D'Agostino-Pearson normal test, we have a high p-value (p = .46), meaning that we *cannot* reject the null hypothesis that the data comes from a normal distribution. As the data comes from a normal distribution, then we can use ANOVA. \\\n",
        "\n",
        "For the type of experiment that we have, ANOVA is also suitiable. Since we want to see how mileage is affected by fuel additive, accounting for the type of cars, which is the experiment's blocks, ANOVA is a classic tool to use. Also, with a low p-value of .08 for the block effects, it is worth using ANOVA since there is a small but unignorable chance that each car has a differing effect on mileage.  \n",
        "\n",
        "There is a concern with the sample size for each treatment, or rather, the number of replicants. Not all cars are tested with every additive. Also, a car is only tested once with one additive. As such, we do not have a Randomized Complete Block Designed Experiment. \\\n",
        "\n",
        "Further, because a car is only tested once with one additive, the known but uncontrollable factors can greatly affect the data. This is addressed below.\n",
        "\n",
        "**4. Do any questions you would have for the experimenters?** \\\n",
        "I would ask, how were the trials run such that known but uncontrollable factors are accounted for? \\\n",
        "\n",
        "For example, ambient temperature affects how efficiently an engine runs. If the trials were not randomized, then running all of trials for particular treatment with on a hot day would not give a accurate view of how well the fuel additive is working. \\\n",
        "\n",
        "A second question I would ask is: how is mileage data actually collected? \\\n",
        "Is a given car driving around a closed circuit until the gas tank is empty? Is the car driving on the street? If so, does it take the same route every run and is traffic accounted for? Also, is there one driver or multiple drivers? \n",
        "\n",
        "\n",
        "All the above are important because since there is only one (or zero) replicant for each additive and car combination, then how the experiment is actually carried out becomes more important. \n"
      ],
      "metadata": {
        "id": "RVaX7gDtaSgh"
      }
    }
  ]
}