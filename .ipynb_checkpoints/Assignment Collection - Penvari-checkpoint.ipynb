{
 "cells": [
  {
   "cell_type": "markdown",
   "metadata": {},
   "source": [
    "## DOX Assignments - Penvari"
   ]
  },
  {
   "cell_type": "code",
   "execution_count": 1,
   "metadata": {},
   "outputs": [],
   "source": [
    "# Setup with libraries.\n",
    "from scipy import stats \n",
    "from math import sqrt\n"
   ]
  },
  {
   "cell_type": "markdown",
   "metadata": {},
   "source": [
    "## Chapter 2 Problems"
   ]
  },
  {
   "cell_type": "markdown",
   "metadata": {},
   "source": [
    "**2.1** \\\n",
    "SE MEAN = $\\frac{\\sqrt{\\sigma}}{n}$ \n",
    "\n",
    "SE MEAN = $\\frac{\\sqrt{3.12}}{9} = .1956$\n",
    "\n",
    "Var = $\\sigma^{2} = 3.12^{2} = 9.734$\n"
   ]
  },
  {
   "cell_type": "markdown",
   "metadata": {},
   "source": [
    "**2.11**\\\n",
    "P-values for (a) t_0 = 2.35 (b) t_0 = 3.55 (c) t_0 = 2.00 (d) t_0 = 1.55 \\\n",
    "Since we only want to see if we can reject (or accept) H_0, with the alternative being H_1: mean population > mean sample, we are in a one sided t-test. \n"
   ]
  },
  {
   "cell_type": "code",
   "execution_count": 2,
   "metadata": {},
   "outputs": [
    {
     "name": "stdout",
     "output_type": "stream",
     "text": [
      "n = 15\n",
      "(a) with t-val 2.35 we reject H_0 with alpha > p= 0.0164\n",
      "\n",
      "(b) with t-val 3.55 we reject H_0 with alpha > p= 0.0015\n",
      "\n",
      "(c) with t-val 2.0 we reject H_0 with alpha > p= 0.032\n",
      "\n",
      "(d) with t-val 1.55 we reject H_0 with alpha > p= 0.071\n",
      "\n"
     ]
    }
   ],
   "source": [
    "def single_side_pval(t : float, df : int, portion):\n",
    "    print(f\"({portion}) with t-val {t} we reject H_0 with alpha > p= {round(stats.t.sf(t, df), 4)}\\n\")\n",
    "\n",
    "df = 15 #sample size\n",
    "part_a_t = 2.35\n",
    "part_b_t = 3.55\n",
    "part_c_t = 2.00\n",
    "part_d_t = 1.55\n",
    "\n",
    "print(f\"n = {df}\")\n",
    "single_side_pval(part_a_t, df, 'a');\n",
    "single_side_pval(part_b_t, df, 'b');\n",
    "single_side_pval(part_c_t, df, 'c');\n",
    "single_side_pval(part_d_t, df, 'd');"
   ]
  },
  {
   "cell_type": "markdown",
   "metadata": {},
   "source": [
    "**2.19** \\\n",
    "Unknown mean and variance $\\sigma^{2} = 9$. CI = 95 % and desired error to not exceed is 1.0. Find the minimum sample size **n**. Alpha value = .05"
   ]
  },
  {
   "cell_type": "markdown",
   "metadata": {},
   "source": [
    "$\\huge n = (\\frac{z_{.5* \\alpha} \\sigma}{e})^{2} =(\\frac{1.96 * 3}{1.0})^{2} $ \\\n",
    "$\\huge n = {5.88}^2 \\simeq 35$\n"
   ]
  },
  {
   "cell_type": "markdown",
   "metadata": {},
   "source": [
    "**2.24**\\\n",
    "(a) State the hypotheses that should be tested in this\n",
    "experiment.\\\n",
    "Since the engineering department suspects that they fill to the same volume, we wish to test whether or not the means of volume from machine 1 and 2 are equal. That is, we want a H_1 = H_2 hypothesis. \n",
    "\n",
    "*parts b-d answered using the code below*\n",
    "\n",
    "(b) Test these hypotheses using alf = 0.05. What are your\n",
    "conclusions?\\\n",
    "(c) Find the P-value for this test.\\\n",
    "(d) Find a 95 percent confidence interval on the difference\n",
    "in mean fill volume for the two machines.\n"
   ]
  },
  {
   "cell_type": "code",
   "execution_count": 3,
   "metadata": {},
   "outputs": [
    {
     "name": "stdout",
     "output_type": "stream",
     "text": [
      "Result: \n",
      "Ttest_indResult(statistic=1.3496272169645915, pvalue=0.19386634413081555)\n"
     ]
    }
   ],
   "source": [
    "machine_1 = [16.03, 16.01, 16.04, 15.96, 16.05, 15.98, 16.05, 16.02, 16.02, 15.99]\n",
    "machine_2 = [16.02, 16.03, 15.97, 16.04, 15.96, 16.02, 16.01, 16.01, 15.99, 16.00]\n",
    "\n",
    "# m_2_less_m1 = [m2_dp - m1_dp for m2_dp in machine_2 for m1_dp in machine_1 ]\n",
    "std_m1 = .015\n",
    "std_m2 = .018\n",
    "samples = 10\n",
    "alf = .05\n",
    "\n",
    "mean_m1 = stats.tmean(machine_1)\n",
    "mean_m2 = stats.tmean(machine_2)\n",
    "print(\"Result: \")\n",
    "print(stats.ttest_ind_from_stats(mean1= mean_m1, mean2= mean_m2, std1= std_m1, std2= std_m2, nobs1=samples, nobs2=samples, equal_var=True))\n"
   ]
  },
  {
   "cell_type": "markdown",
   "metadata": {},
   "source": [
    "**(b)** As was outputed above, our t statistic is +/- 1.34. Which, by the t-distribution (df = 10-1), approximately 80.6 percent of the time, the means will be different. With an alpha of 5%, so a confidence interval of 95%, we cannot reject our null hypothesis as the data is not different frequently enough. \\\n",
    "**(c)** The p-value is .19 \n"
   ]
  },
  {
   "cell_type": "code",
   "execution_count": 5,
   "metadata": {},
   "outputs": [
    {
     "name": "stdout",
     "output_type": "stream",
     "text": [
      "The difference in mean will 95 percent of the time lie between -0.0022 and 0.0222\n"
     ]
    }
   ],
   "source": [
    "# Calculate the 95 percent CI in differences of mean in fill volume. \n",
    "c_i = .95\n",
    "\n",
    "lower = (mean_m1 - mean_m2) - stats.norm.ppf(c_i)* (sqrt(((std_m1*std_m1)/samples)+((std_m2*std_m2)/samples)))\n",
    "upper = (mean_m1 - mean_m2) + stats.norm.ppf(c_i)* (sqrt(((std_m1*std_m1)/samples)+((std_m2*std_m2)/samples)))\n",
    "\n",
    "print(f\"The difference in mean will 95 percent of the time lie between {round(lower,4)} and {round(upper,4)}\")"
   ]
  }
 ],
 "metadata": {
  "kernelspec": {
   "display_name": "Python 3 (ipykernel)",
   "language": "python",
   "name": "python3"
  },
  "language_info": {
   "codemirror_mode": {
    "name": "ipython",
    "version": 3
   },
   "file_extension": ".py",
   "mimetype": "text/x-python",
   "name": "python",
   "nbconvert_exporter": "python",
   "pygments_lexer": "ipython3",
   "version": "3.8.10"
  }
 },
 "nbformat": 4,
 "nbformat_minor": 4
}
