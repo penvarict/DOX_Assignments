{
  "nbformat": 4,
  "nbformat_minor": 0,
  "metadata": {
    "colab": {
      "name": "classtutorial.ipynb",
      "provenance": [],
      "collapsed_sections": [],
      "authorship_tag": "ABX9TyOwowYCumbGo88NgoivQtUh",
      "include_colab_link": true
    },
    "kernelspec": {
      "name": "python3",
      "display_name": "Python 3"
    },
    "language_info": {
      "name": "python"
    }
  },
  "cells": [
    {
      "cell_type": "markdown",
      "metadata": {
        "id": "view-in-github",
        "colab_type": "text"
      },
      "source": [
        "<a href=\"https://colab.research.google.com/github/penvarict/DOX_Assignments/blob/main/classtutorial_grafts.ipynb\" target=\"_parent\"><img src=\"https://colab.research.google.com/assets/colab-badge.svg\" alt=\"Open In Colab\"/></a>"
      ]
    },
    {
      "cell_type": "markdown",
      "source": [
        "### Vein Grafting - DOX\n"
      ],
      "metadata": {
        "id": "YKBuZVOxox3c"
      }
    },
    {
      "cell_type": "code",
      "source": [
        "import numpy as np\n",
        "import pandas as pd\n",
        "import io\n",
        "from pprint import pprint\n",
        "# from google.colab import files\n",
        "# uploaded = files.upload() # bring up dialog for file input.\n"
      ],
      "metadata": {
        "id": "rL7YUXiVor-V"
      },
      "execution_count": 308,
      "outputs": []
    },
    {
      "cell_type": "code",
      "source": [
        "df = pd.read_csv('/content/VascularData.csv')\n",
        "print(df.describe())\n",
        "print(df)"
      ],
      "metadata": {
        "id": "o4b52w1SpIlc",
        "colab": {
          "base_uri": "https://localhost:8080/"
        },
        "outputId": "2c701758-6948-479d-9d34-69205a9c9c72"
      },
      "execution_count": 309,
      "outputs": [
        {
          "output_type": "stream",
          "name": "stdout",
          "text": [
            "         Pressure    Block 1    Block 2    Block 3    Block 4    Block 5  \\\n",
            "count     4.00000   4.000000   4.000000   4.000000   4.000000   4.000000   \n",
            "mean   8800.00000  87.700000  89.750000  91.000000  90.550000  85.325000   \n",
            "std     258.19889   4.534314   0.714143   5.263712   4.369973   4.303003   \n",
            "min    8500.00000  82.500000  89.200000  85.600000  86.200000  78.900000   \n",
            "25%    8650.00000  84.750000  89.425000  88.600000  87.100000  84.975000   \n",
            "50%    8800.00000  87.900000  89.500000  90.100000  90.650000  87.200000   \n",
            "75%    8950.00000  90.850000  89.825000  92.500000  94.100000  87.550000   \n",
            "max    9100.00000  92.500000  90.800000  98.200000  94.700000  88.000000   \n",
            "\n",
            "         Block 6  \n",
            "count   4.000000  \n",
            "mean   94.450000  \n",
            "std     3.103224  \n",
            "min    90.700000  \n",
            "25%    92.725000  \n",
            "50%    94.600000  \n",
            "75%    96.325000  \n",
            "max    97.900000  \n",
            "   Pressure  Block 1  Block 2  Block 3  Block 4  Block 5  Block 6\n",
            "0      8500     90.3     89.2     98.2     93.9     87.4     97.9\n",
            "1      8700     92.5     89.5     90.6     94.7     87.0     95.8\n",
            "2      8900     85.5     90.8     89.6     86.2     88.0     93.4\n",
            "3      9100     82.5     89.5     85.6     87.4     78.9     90.7\n"
          ]
        }
      ]
    },
    {
      "cell_type": "markdown",
      "source": [
        "n = 24 total treatments \\\n",
        "blocks = 6 \\\n",
        "treatments = 4"
      ],
      "metadata": {
        "id": "oWMHKZV8xXXG"
      }
    },
    {
      "cell_type": "code",
      "source": [
        "n = 24\n",
        "b = 6\n",
        "a = 4 #treatments "
      ],
      "metadata": {
        "id": "bxczld4nk5zW"
      },
      "execution_count": 310,
      "outputs": []
    },
    {
      "cell_type": "code",
      "source": [
        "\n",
        "\n",
        "df[\"sum\"] = df.sum(axis=1)\n",
        "df1 = df.loc[:, \"Block 1\": \"Block 6\"]\n",
        "df1[\"sum\"] = df1.sum(axis=1)\n",
        "df1"
      ],
      "metadata": {
        "colab": {
          "base_uri": "https://localhost:8080/",
          "height": 175
        },
        "id": "poT3TPVoxXoX",
        "outputId": "225ff805-765c-400f-ef31-fe75fc0d11dc"
      },
      "execution_count": 311,
      "outputs": [
        {
          "output_type": "execute_result",
          "data": {
            "text/html": [
              "\n",
              "  <div id=\"df-9523960e-4d81-4599-9e4a-eb1f04a400d6\">\n",
              "    <div class=\"colab-df-container\">\n",
              "      <div>\n",
              "<style scoped>\n",
              "    .dataframe tbody tr th:only-of-type {\n",
              "        vertical-align: middle;\n",
              "    }\n",
              "\n",
              "    .dataframe tbody tr th {\n",
              "        vertical-align: top;\n",
              "    }\n",
              "\n",
              "    .dataframe thead th {\n",
              "        text-align: right;\n",
              "    }\n",
              "</style>\n",
              "<table border=\"1\" class=\"dataframe\">\n",
              "  <thead>\n",
              "    <tr style=\"text-align: right;\">\n",
              "      <th></th>\n",
              "      <th>Block 1</th>\n",
              "      <th>Block 2</th>\n",
              "      <th>Block 3</th>\n",
              "      <th>Block 4</th>\n",
              "      <th>Block 5</th>\n",
              "      <th>Block 6</th>\n",
              "      <th>sum</th>\n",
              "    </tr>\n",
              "  </thead>\n",
              "  <tbody>\n",
              "    <tr>\n",
              "      <th>0</th>\n",
              "      <td>90.3</td>\n",
              "      <td>89.2</td>\n",
              "      <td>98.2</td>\n",
              "      <td>93.9</td>\n",
              "      <td>87.4</td>\n",
              "      <td>97.9</td>\n",
              "      <td>556.9</td>\n",
              "    </tr>\n",
              "    <tr>\n",
              "      <th>1</th>\n",
              "      <td>92.5</td>\n",
              "      <td>89.5</td>\n",
              "      <td>90.6</td>\n",
              "      <td>94.7</td>\n",
              "      <td>87.0</td>\n",
              "      <td>95.8</td>\n",
              "      <td>550.1</td>\n",
              "    </tr>\n",
              "    <tr>\n",
              "      <th>2</th>\n",
              "      <td>85.5</td>\n",
              "      <td>90.8</td>\n",
              "      <td>89.6</td>\n",
              "      <td>86.2</td>\n",
              "      <td>88.0</td>\n",
              "      <td>93.4</td>\n",
              "      <td>533.5</td>\n",
              "    </tr>\n",
              "    <tr>\n",
              "      <th>3</th>\n",
              "      <td>82.5</td>\n",
              "      <td>89.5</td>\n",
              "      <td>85.6</td>\n",
              "      <td>87.4</td>\n",
              "      <td>78.9</td>\n",
              "      <td>90.7</td>\n",
              "      <td>514.6</td>\n",
              "    </tr>\n",
              "  </tbody>\n",
              "</table>\n",
              "</div>\n",
              "      <button class=\"colab-df-convert\" onclick=\"convertToInteractive('df-9523960e-4d81-4599-9e4a-eb1f04a400d6')\"\n",
              "              title=\"Convert this dataframe to an interactive table.\"\n",
              "              style=\"display:none;\">\n",
              "        \n",
              "  <svg xmlns=\"http://www.w3.org/2000/svg\" height=\"24px\"viewBox=\"0 0 24 24\"\n",
              "       width=\"24px\">\n",
              "    <path d=\"M0 0h24v24H0V0z\" fill=\"none\"/>\n",
              "    <path d=\"M18.56 5.44l.94 2.06.94-2.06 2.06-.94-2.06-.94-.94-2.06-.94 2.06-2.06.94zm-11 1L8.5 8.5l.94-2.06 2.06-.94-2.06-.94L8.5 2.5l-.94 2.06-2.06.94zm10 10l.94 2.06.94-2.06 2.06-.94-2.06-.94-.94-2.06-.94 2.06-2.06.94z\"/><path d=\"M17.41 7.96l-1.37-1.37c-.4-.4-.92-.59-1.43-.59-.52 0-1.04.2-1.43.59L10.3 9.45l-7.72 7.72c-.78.78-.78 2.05 0 2.83L4 21.41c.39.39.9.59 1.41.59.51 0 1.02-.2 1.41-.59l7.78-7.78 2.81-2.81c.8-.78.8-2.07 0-2.86zM5.41 20L4 18.59l7.72-7.72 1.47 1.35L5.41 20z\"/>\n",
              "  </svg>\n",
              "      </button>\n",
              "      \n",
              "  <style>\n",
              "    .colab-df-container {\n",
              "      display:flex;\n",
              "      flex-wrap:wrap;\n",
              "      gap: 12px;\n",
              "    }\n",
              "\n",
              "    .colab-df-convert {\n",
              "      background-color: #E8F0FE;\n",
              "      border: none;\n",
              "      border-radius: 50%;\n",
              "      cursor: pointer;\n",
              "      display: none;\n",
              "      fill: #1967D2;\n",
              "      height: 32px;\n",
              "      padding: 0 0 0 0;\n",
              "      width: 32px;\n",
              "    }\n",
              "\n",
              "    .colab-df-convert:hover {\n",
              "      background-color: #E2EBFA;\n",
              "      box-shadow: 0px 1px 2px rgba(60, 64, 67, 0.3), 0px 1px 3px 1px rgba(60, 64, 67, 0.15);\n",
              "      fill: #174EA6;\n",
              "    }\n",
              "\n",
              "    [theme=dark] .colab-df-convert {\n",
              "      background-color: #3B4455;\n",
              "      fill: #D2E3FC;\n",
              "    }\n",
              "\n",
              "    [theme=dark] .colab-df-convert:hover {\n",
              "      background-color: #434B5C;\n",
              "      box-shadow: 0px 1px 3px 1px rgba(0, 0, 0, 0.15);\n",
              "      filter: drop-shadow(0px 1px 2px rgba(0, 0, 0, 0.3));\n",
              "      fill: #FFFFFF;\n",
              "    }\n",
              "  </style>\n",
              "\n",
              "      <script>\n",
              "        const buttonEl =\n",
              "          document.querySelector('#df-9523960e-4d81-4599-9e4a-eb1f04a400d6 button.colab-df-convert');\n",
              "        buttonEl.style.display =\n",
              "          google.colab.kernel.accessAllowed ? 'block' : 'none';\n",
              "\n",
              "        async function convertToInteractive(key) {\n",
              "          const element = document.querySelector('#df-9523960e-4d81-4599-9e4a-eb1f04a400d6');\n",
              "          const dataTable =\n",
              "            await google.colab.kernel.invokeFunction('convertToInteractive',\n",
              "                                                     [key], {});\n",
              "          if (!dataTable) return;\n",
              "\n",
              "          const docLinkHtml = 'Like what you see? Visit the ' +\n",
              "            '<a target=\"_blank\" href=https://colab.research.google.com/notebooks/data_table.ipynb>data table notebook</a>'\n",
              "            + ' to learn more about interactive tables.';\n",
              "          element.innerHTML = '';\n",
              "          dataTable['output_type'] = 'display_data';\n",
              "          await google.colab.output.renderOutput(dataTable, element);\n",
              "          const docLink = document.createElement('div');\n",
              "          docLink.innerHTML = docLinkHtml;\n",
              "          element.appendChild(docLink);\n",
              "        }\n",
              "      </script>\n",
              "    </div>\n",
              "  </div>\n",
              "  "
            ],
            "text/plain": [
              "   Block 1  Block 2  Block 3  Block 4  Block 5  Block 6    sum\n",
              "0     90.3     89.2     98.2     93.9     87.4     97.9  556.9\n",
              "1     92.5     89.5     90.6     94.7     87.0     95.8  550.1\n",
              "2     85.5     90.8     89.6     86.2     88.0     93.4  533.5\n",
              "3     82.5     89.5     85.6     87.4     78.9     90.7  514.6"
            ]
          },
          "metadata": {},
          "execution_count": 311
        }
      ]
    },
    {
      "cell_type": "code",
      "source": [
        "df1 = df1.append(df1.sum(numeric_only=True), ignore_index=True)\n",
        "df2 = df1.rename({4:\"Block Totals\"})"
      ],
      "metadata": {
        "id": "nyWQajMT4UvD"
      },
      "execution_count": 312,
      "outputs": []
    },
    {
      "cell_type": "code",
      "source": [
        "# df2 like in the book\n",
        "print(df2)"
      ],
      "metadata": {
        "colab": {
          "base_uri": "https://localhost:8080/"
        },
        "id": "j8lcu-gT8yAy",
        "outputId": "a0f9fb66-1b0b-452c-e426-4ca07742cc66"
      },
      "execution_count": 313,
      "outputs": [
        {
          "output_type": "stream",
          "name": "stdout",
          "text": [
            "              Block 1  Block 2  Block 3  Block 4  Block 5  Block 6     sum\n",
            "0                90.3     89.2     98.2     93.9     87.4     97.9   556.9\n",
            "1                92.5     89.5     90.6     94.7     87.0     95.8   550.1\n",
            "2                85.5     90.8     89.6     86.2     88.0     93.4   533.5\n",
            "3                82.5     89.5     85.6     87.4     78.9     90.7   514.6\n",
            "Block Totals    350.8    359.0    364.0    362.2    341.3    377.8  2155.1\n"
          ]
        }
      ]
    },
    {
      "cell_type": "markdown",
      "source": [
        "**Square of Sum Total:**\n"
      ],
      "metadata": {
        "id": "tR6RCvVqgJoj"
      }
    },
    {
      "cell_type": "code",
      "source": [
        "total_squared = np.power(df2['sum']['Block Totals'],2)\n",
        "print(total_squared)"
      ],
      "metadata": {
        "colab": {
          "base_uri": "https://localhost:8080/"
        },
        "id": "J8PlWxOIgOXf",
        "outputId": "bff9f602-6b77-416e-bd45-896189e99327"
      },
      "execution_count": 314,
      "outputs": [
        {
          "output_type": "stream",
          "name": "stdout",
          "text": [
            "4644456.01\n"
          ]
        }
      ]
    },
    {
      "cell_type": "markdown",
      "source": [
        ""
      ],
      "metadata": {
        "id": "3Kw1cTOV9Wd_"
      }
    },
    {
      "cell_type": "markdown",
      "source": [
        "### Obtain Squares\n",
        "**For SS_total**\n",
        "\n"
      ],
      "metadata": {
        "id": "VE29at-q_sZ7"
      }
    },
    {
      "cell_type": "code",
      "source": [
        "square_table = df2.loc[0:3, \"Block 1\":\"Block 6\"].transform(lambda x : x*x)\n",
        "print(square_table)\n"
      ],
      "metadata": {
        "colab": {
          "base_uri": "https://localhost:8080/"
        },
        "id": "wSFkVx3LBLI2",
        "outputId": "3317447d-f78c-4758-d94d-00cb77bfe50b"
      },
      "execution_count": 315,
      "outputs": [
        {
          "output_type": "stream",
          "name": "stdout",
          "text": [
            "   Block 1  Block 2  Block 3  Block 4  Block 5  Block 6\n",
            "0  8154.09  7956.64  9643.24  8817.21  7638.76  9584.41\n",
            "1  8556.25  8010.25  8208.36  8968.09  7569.00  9177.64\n",
            "2  7310.25  8244.64  8028.16  7430.44  7744.00  8723.56\n",
            "3  6806.25  8010.25  7327.36  7638.76  6225.21  8226.49\n"
          ]
        }
      ]
    },
    {
      "cell_type": "code",
      "source": [
        "square_table = square_table.append(square_table.sum(numeric_only=True), ignore_index = True)\n",
        "square_table['sums'] = square_table.sum(axis = 1)\n",
        "print(square_table)"
      ],
      "metadata": {
        "colab": {
          "base_uri": "https://localhost:8080/"
        },
        "id": "rMuS92TAVvRe",
        "outputId": "8e85424f-b302-4756-c8cf-f209ec742f45"
      },
      "execution_count": 316,
      "outputs": [
        {
          "output_type": "stream",
          "name": "stdout",
          "text": [
            "    Block 1   Block 2   Block 3   Block 4   Block 5   Block 6       sums\n",
            "0   8154.09   7956.64   9643.24   8817.21   7638.76   9584.41   51794.35\n",
            "1   8556.25   8010.25   8208.36   8968.09   7569.00   9177.64   50489.59\n",
            "2   7310.25   8244.64   8028.16   7430.44   7744.00   8723.56   47481.05\n",
            "3   6806.25   8010.25   7327.36   7638.76   6225.21   8226.49   44234.32\n",
            "4  30826.84  32221.78  33207.12  32854.50  29176.97  35712.10  193999.31\n"
          ]
        }
      ]
    },
    {
      "cell_type": "markdown",
      "source": [
        "**The Final Sum Of Squares:**\n"
      ],
      "metadata": {
        "id": "XRuisVNEgyje"
      }
    },
    {
      "cell_type": "code",
      "source": [
        "sum_of_squares = square_table['sums'][square_table.index[-1]]\n",
        "print(sum_of_squares)"
      ],
      "metadata": {
        "colab": {
          "base_uri": "https://localhost:8080/"
        },
        "id": "UDWnn2YpXqfp",
        "outputId": "b93ba1c1-943b-4784-e440-ab02174af0a0"
      },
      "execution_count": 317,
      "outputs": [
        {
          "output_type": "stream",
          "name": "stdout",
          "text": [
            "193999.31\n"
          ]
        }
      ]
    },
    {
      "cell_type": "markdown",
      "source": [
        "### Obtain SS"
      ],
      "metadata": {
        "id": "uxOkhRowhEp4"
      }
    },
    {
      "cell_type": "code",
      "source": [
        "ss_total_div_n = (sum_of_squares - total_squared/n)\n",
        "print(f\"SS_Total is {ss_total_div_n}\") # assert 480"
      ],
      "metadata": {
        "colab": {
          "base_uri": "https://localhost:8080/"
        },
        "id": "N66FS-Yci7ee",
        "outputId": "e0c697a0-c47e-428f-ae17-529287703f5a"
      },
      "execution_count": 318,
      "outputs": [
        {
          "output_type": "stream",
          "name": "stdout",
          "text": [
            "SS_Total is 480.30958333335\n"
          ]
        }
      ]
    },
    {
      "cell_type": "markdown",
      "source": [
        "### Calculation on SS_treatments"
      ],
      "metadata": {
        "id": "bfM1LVyMlQXn"
      }
    },
    {
      "cell_type": "code",
      "source": [
        "# df2 is the dataframe with col & row sums\n",
        "print(df2) "
      ],
      "metadata": {
        "colab": {
          "base_uri": "https://localhost:8080/"
        },
        "id": "GSarHKSzlmpf",
        "outputId": "39e4cd6d-da9c-44ee-adba-f5f7da47e3f8"
      },
      "execution_count": 319,
      "outputs": [
        {
          "output_type": "stream",
          "name": "stdout",
          "text": [
            "              Block 1  Block 2  Block 3  Block 4  Block 5  Block 6     sum\n",
            "0                90.3     89.2     98.2     93.9     87.4     97.9   556.9\n",
            "1                92.5     89.5     90.6     94.7     87.0     95.8   550.1\n",
            "2                85.5     90.8     89.6     86.2     88.0     93.4   533.5\n",
            "3                82.5     89.5     85.6     87.4     78.9     90.7   514.6\n",
            "Block Totals    350.8    359.0    364.0    362.2    341.3    377.8  2155.1\n"
          ]
        }
      ]
    },
    {
      "cell_type": "markdown",
      "source": [
        "**Sum of all the squares of the treatment totals** "
      ],
      "metadata": {
        "id": "bFPzkyjfmETb"
      }
    },
    {
      "cell_type": "code",
      "source": [
        "treatments_square = df2\n",
        "treatments_square['sum^2'] = treatments_square['sum'] ** 2\n",
        "treatments_square"
      ],
      "metadata": {
        "colab": {
          "base_uri": "https://localhost:8080/",
          "height": 206
        },
        "id": "JSu8L323mRZg",
        "outputId": "1fbfa320-3b71-4ff9-8ac6-6f799295618a"
      },
      "execution_count": 320,
      "outputs": [
        {
          "output_type": "execute_result",
          "data": {
            "text/html": [
              "\n",
              "  <div id=\"df-55f4287e-027b-4732-81ee-4fb9985ac930\">\n",
              "    <div class=\"colab-df-container\">\n",
              "      <div>\n",
              "<style scoped>\n",
              "    .dataframe tbody tr th:only-of-type {\n",
              "        vertical-align: middle;\n",
              "    }\n",
              "\n",
              "    .dataframe tbody tr th {\n",
              "        vertical-align: top;\n",
              "    }\n",
              "\n",
              "    .dataframe thead th {\n",
              "        text-align: right;\n",
              "    }\n",
              "</style>\n",
              "<table border=\"1\" class=\"dataframe\">\n",
              "  <thead>\n",
              "    <tr style=\"text-align: right;\">\n",
              "      <th></th>\n",
              "      <th>Block 1</th>\n",
              "      <th>Block 2</th>\n",
              "      <th>Block 3</th>\n",
              "      <th>Block 4</th>\n",
              "      <th>Block 5</th>\n",
              "      <th>Block 6</th>\n",
              "      <th>sum</th>\n",
              "      <th>sum^2</th>\n",
              "    </tr>\n",
              "  </thead>\n",
              "  <tbody>\n",
              "    <tr>\n",
              "      <th>0</th>\n",
              "      <td>90.3</td>\n",
              "      <td>89.2</td>\n",
              "      <td>98.2</td>\n",
              "      <td>93.9</td>\n",
              "      <td>87.4</td>\n",
              "      <td>97.9</td>\n",
              "      <td>556.9</td>\n",
              "      <td>310137.61</td>\n",
              "    </tr>\n",
              "    <tr>\n",
              "      <th>1</th>\n",
              "      <td>92.5</td>\n",
              "      <td>89.5</td>\n",
              "      <td>90.6</td>\n",
              "      <td>94.7</td>\n",
              "      <td>87.0</td>\n",
              "      <td>95.8</td>\n",
              "      <td>550.1</td>\n",
              "      <td>302610.01</td>\n",
              "    </tr>\n",
              "    <tr>\n",
              "      <th>2</th>\n",
              "      <td>85.5</td>\n",
              "      <td>90.8</td>\n",
              "      <td>89.6</td>\n",
              "      <td>86.2</td>\n",
              "      <td>88.0</td>\n",
              "      <td>93.4</td>\n",
              "      <td>533.5</td>\n",
              "      <td>284622.25</td>\n",
              "    </tr>\n",
              "    <tr>\n",
              "      <th>3</th>\n",
              "      <td>82.5</td>\n",
              "      <td>89.5</td>\n",
              "      <td>85.6</td>\n",
              "      <td>87.4</td>\n",
              "      <td>78.9</td>\n",
              "      <td>90.7</td>\n",
              "      <td>514.6</td>\n",
              "      <td>264813.16</td>\n",
              "    </tr>\n",
              "    <tr>\n",
              "      <th>Block Totals</th>\n",
              "      <td>350.8</td>\n",
              "      <td>359.0</td>\n",
              "      <td>364.0</td>\n",
              "      <td>362.2</td>\n",
              "      <td>341.3</td>\n",
              "      <td>377.8</td>\n",
              "      <td>2155.1</td>\n",
              "      <td>4644456.01</td>\n",
              "    </tr>\n",
              "  </tbody>\n",
              "</table>\n",
              "</div>\n",
              "      <button class=\"colab-df-convert\" onclick=\"convertToInteractive('df-55f4287e-027b-4732-81ee-4fb9985ac930')\"\n",
              "              title=\"Convert this dataframe to an interactive table.\"\n",
              "              style=\"display:none;\">\n",
              "        \n",
              "  <svg xmlns=\"http://www.w3.org/2000/svg\" height=\"24px\"viewBox=\"0 0 24 24\"\n",
              "       width=\"24px\">\n",
              "    <path d=\"M0 0h24v24H0V0z\" fill=\"none\"/>\n",
              "    <path d=\"M18.56 5.44l.94 2.06.94-2.06 2.06-.94-2.06-.94-.94-2.06-.94 2.06-2.06.94zm-11 1L8.5 8.5l.94-2.06 2.06-.94-2.06-.94L8.5 2.5l-.94 2.06-2.06.94zm10 10l.94 2.06.94-2.06 2.06-.94-2.06-.94-.94-2.06-.94 2.06-2.06.94z\"/><path d=\"M17.41 7.96l-1.37-1.37c-.4-.4-.92-.59-1.43-.59-.52 0-1.04.2-1.43.59L10.3 9.45l-7.72 7.72c-.78.78-.78 2.05 0 2.83L4 21.41c.39.39.9.59 1.41.59.51 0 1.02-.2 1.41-.59l7.78-7.78 2.81-2.81c.8-.78.8-2.07 0-2.86zM5.41 20L4 18.59l7.72-7.72 1.47 1.35L5.41 20z\"/>\n",
              "  </svg>\n",
              "      </button>\n",
              "      \n",
              "  <style>\n",
              "    .colab-df-container {\n",
              "      display:flex;\n",
              "      flex-wrap:wrap;\n",
              "      gap: 12px;\n",
              "    }\n",
              "\n",
              "    .colab-df-convert {\n",
              "      background-color: #E8F0FE;\n",
              "      border: none;\n",
              "      border-radius: 50%;\n",
              "      cursor: pointer;\n",
              "      display: none;\n",
              "      fill: #1967D2;\n",
              "      height: 32px;\n",
              "      padding: 0 0 0 0;\n",
              "      width: 32px;\n",
              "    }\n",
              "\n",
              "    .colab-df-convert:hover {\n",
              "      background-color: #E2EBFA;\n",
              "      box-shadow: 0px 1px 2px rgba(60, 64, 67, 0.3), 0px 1px 3px 1px rgba(60, 64, 67, 0.15);\n",
              "      fill: #174EA6;\n",
              "    }\n",
              "\n",
              "    [theme=dark] .colab-df-convert {\n",
              "      background-color: #3B4455;\n",
              "      fill: #D2E3FC;\n",
              "    }\n",
              "\n",
              "    [theme=dark] .colab-df-convert:hover {\n",
              "      background-color: #434B5C;\n",
              "      box-shadow: 0px 1px 3px 1px rgba(0, 0, 0, 0.15);\n",
              "      filter: drop-shadow(0px 1px 2px rgba(0, 0, 0, 0.3));\n",
              "      fill: #FFFFFF;\n",
              "    }\n",
              "  </style>\n",
              "\n",
              "      <script>\n",
              "        const buttonEl =\n",
              "          document.querySelector('#df-55f4287e-027b-4732-81ee-4fb9985ac930 button.colab-df-convert');\n",
              "        buttonEl.style.display =\n",
              "          google.colab.kernel.accessAllowed ? 'block' : 'none';\n",
              "\n",
              "        async function convertToInteractive(key) {\n",
              "          const element = document.querySelector('#df-55f4287e-027b-4732-81ee-4fb9985ac930');\n",
              "          const dataTable =\n",
              "            await google.colab.kernel.invokeFunction('convertToInteractive',\n",
              "                                                     [key], {});\n",
              "          if (!dataTable) return;\n",
              "\n",
              "          const docLinkHtml = 'Like what you see? Visit the ' +\n",
              "            '<a target=\"_blank\" href=https://colab.research.google.com/notebooks/data_table.ipynb>data table notebook</a>'\n",
              "            + ' to learn more about interactive tables.';\n",
              "          element.innerHTML = '';\n",
              "          dataTable['output_type'] = 'display_data';\n",
              "          await google.colab.output.renderOutput(dataTable, element);\n",
              "          const docLink = document.createElement('div');\n",
              "          docLink.innerHTML = docLinkHtml;\n",
              "          element.appendChild(docLink);\n",
              "        }\n",
              "      </script>\n",
              "    </div>\n",
              "  </div>\n",
              "  "
            ],
            "text/plain": [
              "              Block 1  Block 2  Block 3  Block 4  Block 5  Block 6     sum  \\\n",
              "0                90.3     89.2     98.2     93.9     87.4     97.9   556.9   \n",
              "1                92.5     89.5     90.6     94.7     87.0     95.8   550.1   \n",
              "2                85.5     90.8     89.6     86.2     88.0     93.4   533.5   \n",
              "3                82.5     89.5     85.6     87.4     78.9     90.7   514.6   \n",
              "Block Totals    350.8    359.0    364.0    362.2    341.3    377.8  2155.1   \n",
              "\n",
              "                   sum^2  \n",
              "0              310137.61  \n",
              "1              302610.01  \n",
              "2              284622.25  \n",
              "3              264813.16  \n",
              "Block Totals  4644456.01  "
            ]
          },
          "metadata": {},
          "execution_count": 320
        }
      ]
    },
    {
      "cell_type": "code",
      "source": [
        "treatments_square = treatments_square[:-1]\n",
        "treatments_square = treatments_square.append(treatments_square.sum(numeric_only=True), ignore_index=True)\n",
        "print(treatments_square)\n",
        "# sum_treatments_square_df = treatments_square.iloc[0:4].sum(axis = 1).to_frame()\n",
        "# sum_treatments_square_df = sum_treatments_square_df.append(sum_treatments_square_df.sum(numeric_only= False ), ignore_index=True)\n",
        "# print(sum_treatments_square_df)\n"
      ],
      "metadata": {
        "colab": {
          "base_uri": "https://localhost:8080/"
        },
        "id": "mLx2HOwKngfb",
        "outputId": "825674d3-3424-4016-85b4-63af53ba689a"
      },
      "execution_count": 321,
      "outputs": [
        {
          "output_type": "stream",
          "name": "stdout",
          "text": [
            "   Block 1  Block 2  Block 3  Block 4  Block 5  Block 6     sum       sum^2\n",
            "0     90.3     89.2     98.2     93.9     87.4     97.9   556.9   310137.61\n",
            "1     92.5     89.5     90.6     94.7     87.0     95.8   550.1   302610.01\n",
            "2     85.5     90.8     89.6     86.2     88.0     93.4   533.5   284622.25\n",
            "3     82.5     89.5     85.6     87.4     78.9     90.7   514.6   264813.16\n",
            "4    350.8    359.0    364.0    362.2    341.3    377.8  2155.1  1162183.03\n"
          ]
        }
      ]
    },
    {
      "cell_type": "code",
      "source": [
        "sum_treatments_square = treatments_square['sum^2'][treatments_square.index[-1]]\n",
        "print(sum_treatments_square)"
      ],
      "metadata": {
        "colab": {
          "base_uri": "https://localhost:8080/"
        },
        "id": "GJ_62gEyqQpx",
        "outputId": "372088b1-d949-4211-94ae-35c2696214a4"
      },
      "execution_count": 322,
      "outputs": [
        {
          "output_type": "stream",
          "name": "stdout",
          "text": [
            "1162183.03\n"
          ]
        }
      ]
    },
    {
      "cell_type": "markdown",
      "source": [
        "**Sum of Squares of Treatments:**"
      ],
      "metadata": {
        "id": "cAJJAJ66rWbF"
      }
    },
    {
      "cell_type": "code",
      "source": [
        "ss_treatments = (sum_treatments_square/b) - (total_squared/n)\n",
        "print(ss_treatments) ## assert 178.17"
      ],
      "metadata": {
        "colab": {
          "base_uri": "https://localhost:8080/"
        },
        "id": "I74lrmsVrM5T",
        "outputId": "8a749ac3-7c86-4f54-d11b-14b35828b73b"
      },
      "execution_count": 323,
      "outputs": [
        {
          "output_type": "stream",
          "name": "stdout",
          "text": [
            "178.17125000001397\n"
          ]
        }
      ]
    },
    {
      "cell_type": "markdown",
      "source": [
        "### Calculation on Sum of Squares Blocks"
      ],
      "metadata": {
        "id": "p3gcU_1z4QQv"
      }
    },
    {
      "cell_type": "code",
      "source": [
        "# df2 again\n",
        "\n",
        "\n",
        "df2 = df2.drop('sum', axis = 1)\n",
        "df2 = df2.drop('sum^2', axis = 1)\n"
      ],
      "metadata": {
        "id": "4nIgrVTS4V33"
      },
      "execution_count": 324,
      "outputs": []
    },
    {
      "cell_type": "code",
      "source": [
        "blocks_square_df = df2.append(df2.tail(1) ** 2, ignore_index=True)\n",
        "blocks_square_df"
      ],
      "metadata": {
        "colab": {
          "base_uri": "https://localhost:8080/",
          "height": 238
        },
        "id": "meaAqLCB4oN2",
        "outputId": "bcd6088e-bcd5-43ac-cef8-b0cff263b7fa"
      },
      "execution_count": 325,
      "outputs": [
        {
          "output_type": "execute_result",
          "data": {
            "text/html": [
              "\n",
              "  <div id=\"df-cd63c095-1601-4931-869e-e541aa8d32a0\">\n",
              "    <div class=\"colab-df-container\">\n",
              "      <div>\n",
              "<style scoped>\n",
              "    .dataframe tbody tr th:only-of-type {\n",
              "        vertical-align: middle;\n",
              "    }\n",
              "\n",
              "    .dataframe tbody tr th {\n",
              "        vertical-align: top;\n",
              "    }\n",
              "\n",
              "    .dataframe thead th {\n",
              "        text-align: right;\n",
              "    }\n",
              "</style>\n",
              "<table border=\"1\" class=\"dataframe\">\n",
              "  <thead>\n",
              "    <tr style=\"text-align: right;\">\n",
              "      <th></th>\n",
              "      <th>Block 1</th>\n",
              "      <th>Block 2</th>\n",
              "      <th>Block 3</th>\n",
              "      <th>Block 4</th>\n",
              "      <th>Block 5</th>\n",
              "      <th>Block 6</th>\n",
              "    </tr>\n",
              "  </thead>\n",
              "  <tbody>\n",
              "    <tr>\n",
              "      <th>0</th>\n",
              "      <td>90.30</td>\n",
              "      <td>89.2</td>\n",
              "      <td>98.2</td>\n",
              "      <td>93.90</td>\n",
              "      <td>87.40</td>\n",
              "      <td>97.90</td>\n",
              "    </tr>\n",
              "    <tr>\n",
              "      <th>1</th>\n",
              "      <td>92.50</td>\n",
              "      <td>89.5</td>\n",
              "      <td>90.6</td>\n",
              "      <td>94.70</td>\n",
              "      <td>87.00</td>\n",
              "      <td>95.80</td>\n",
              "    </tr>\n",
              "    <tr>\n",
              "      <th>2</th>\n",
              "      <td>85.50</td>\n",
              "      <td>90.8</td>\n",
              "      <td>89.6</td>\n",
              "      <td>86.20</td>\n",
              "      <td>88.00</td>\n",
              "      <td>93.40</td>\n",
              "    </tr>\n",
              "    <tr>\n",
              "      <th>3</th>\n",
              "      <td>82.50</td>\n",
              "      <td>89.5</td>\n",
              "      <td>85.6</td>\n",
              "      <td>87.40</td>\n",
              "      <td>78.90</td>\n",
              "      <td>90.70</td>\n",
              "    </tr>\n",
              "    <tr>\n",
              "      <th>4</th>\n",
              "      <td>350.80</td>\n",
              "      <td>359.0</td>\n",
              "      <td>364.0</td>\n",
              "      <td>362.20</td>\n",
              "      <td>341.30</td>\n",
              "      <td>377.80</td>\n",
              "    </tr>\n",
              "    <tr>\n",
              "      <th>5</th>\n",
              "      <td>123060.64</td>\n",
              "      <td>128881.0</td>\n",
              "      <td>132496.0</td>\n",
              "      <td>131188.84</td>\n",
              "      <td>116485.69</td>\n",
              "      <td>142732.84</td>\n",
              "    </tr>\n",
              "  </tbody>\n",
              "</table>\n",
              "</div>\n",
              "      <button class=\"colab-df-convert\" onclick=\"convertToInteractive('df-cd63c095-1601-4931-869e-e541aa8d32a0')\"\n",
              "              title=\"Convert this dataframe to an interactive table.\"\n",
              "              style=\"display:none;\">\n",
              "        \n",
              "  <svg xmlns=\"http://www.w3.org/2000/svg\" height=\"24px\"viewBox=\"0 0 24 24\"\n",
              "       width=\"24px\">\n",
              "    <path d=\"M0 0h24v24H0V0z\" fill=\"none\"/>\n",
              "    <path d=\"M18.56 5.44l.94 2.06.94-2.06 2.06-.94-2.06-.94-.94-2.06-.94 2.06-2.06.94zm-11 1L8.5 8.5l.94-2.06 2.06-.94-2.06-.94L8.5 2.5l-.94 2.06-2.06.94zm10 10l.94 2.06.94-2.06 2.06-.94-2.06-.94-.94-2.06-.94 2.06-2.06.94z\"/><path d=\"M17.41 7.96l-1.37-1.37c-.4-.4-.92-.59-1.43-.59-.52 0-1.04.2-1.43.59L10.3 9.45l-7.72 7.72c-.78.78-.78 2.05 0 2.83L4 21.41c.39.39.9.59 1.41.59.51 0 1.02-.2 1.41-.59l7.78-7.78 2.81-2.81c.8-.78.8-2.07 0-2.86zM5.41 20L4 18.59l7.72-7.72 1.47 1.35L5.41 20z\"/>\n",
              "  </svg>\n",
              "      </button>\n",
              "      \n",
              "  <style>\n",
              "    .colab-df-container {\n",
              "      display:flex;\n",
              "      flex-wrap:wrap;\n",
              "      gap: 12px;\n",
              "    }\n",
              "\n",
              "    .colab-df-convert {\n",
              "      background-color: #E8F0FE;\n",
              "      border: none;\n",
              "      border-radius: 50%;\n",
              "      cursor: pointer;\n",
              "      display: none;\n",
              "      fill: #1967D2;\n",
              "      height: 32px;\n",
              "      padding: 0 0 0 0;\n",
              "      width: 32px;\n",
              "    }\n",
              "\n",
              "    .colab-df-convert:hover {\n",
              "      background-color: #E2EBFA;\n",
              "      box-shadow: 0px 1px 2px rgba(60, 64, 67, 0.3), 0px 1px 3px 1px rgba(60, 64, 67, 0.15);\n",
              "      fill: #174EA6;\n",
              "    }\n",
              "\n",
              "    [theme=dark] .colab-df-convert {\n",
              "      background-color: #3B4455;\n",
              "      fill: #D2E3FC;\n",
              "    }\n",
              "\n",
              "    [theme=dark] .colab-df-convert:hover {\n",
              "      background-color: #434B5C;\n",
              "      box-shadow: 0px 1px 3px 1px rgba(0, 0, 0, 0.15);\n",
              "      filter: drop-shadow(0px 1px 2px rgba(0, 0, 0, 0.3));\n",
              "      fill: #FFFFFF;\n",
              "    }\n",
              "  </style>\n",
              "\n",
              "      <script>\n",
              "        const buttonEl =\n",
              "          document.querySelector('#df-cd63c095-1601-4931-869e-e541aa8d32a0 button.colab-df-convert');\n",
              "        buttonEl.style.display =\n",
              "          google.colab.kernel.accessAllowed ? 'block' : 'none';\n",
              "\n",
              "        async function convertToInteractive(key) {\n",
              "          const element = document.querySelector('#df-cd63c095-1601-4931-869e-e541aa8d32a0');\n",
              "          const dataTable =\n",
              "            await google.colab.kernel.invokeFunction('convertToInteractive',\n",
              "                                                     [key], {});\n",
              "          if (!dataTable) return;\n",
              "\n",
              "          const docLinkHtml = 'Like what you see? Visit the ' +\n",
              "            '<a target=\"_blank\" href=https://colab.research.google.com/notebooks/data_table.ipynb>data table notebook</a>'\n",
              "            + ' to learn more about interactive tables.';\n",
              "          element.innerHTML = '';\n",
              "          dataTable['output_type'] = 'display_data';\n",
              "          await google.colab.output.renderOutput(dataTable, element);\n",
              "          const docLink = document.createElement('div');\n",
              "          docLink.innerHTML = docLinkHtml;\n",
              "          element.appendChild(docLink);\n",
              "        }\n",
              "      </script>\n",
              "    </div>\n",
              "  </div>\n",
              "  "
            ],
            "text/plain": [
              "     Block 1   Block 2   Block 3    Block 4    Block 5    Block 6\n",
              "0      90.30      89.2      98.2      93.90      87.40      97.90\n",
              "1      92.50      89.5      90.6      94.70      87.00      95.80\n",
              "2      85.50      90.8      89.6      86.20      88.00      93.40\n",
              "3      82.50      89.5      85.6      87.40      78.90      90.70\n",
              "4     350.80     359.0     364.0     362.20     341.30     377.80\n",
              "5  123060.64  128881.0  132496.0  131188.84  116485.69  142732.84"
            ]
          },
          "metadata": {},
          "execution_count": 325
        }
      ]
    },
    {
      "cell_type": "code",
      "source": [
        "blocks_square_df['sums'] = blocks_square_df.sum(axis= 1)\n",
        "blocks_square_df"
      ],
      "metadata": {
        "colab": {
          "base_uri": "https://localhost:8080/",
          "height": 238
        },
        "id": "dq8QW8Dc940Y",
        "outputId": "3b6214a2-71da-487c-ec2f-ed31cb8fe54b"
      },
      "execution_count": 326,
      "outputs": [
        {
          "output_type": "execute_result",
          "data": {
            "text/html": [
              "\n",
              "  <div id=\"df-56d6839e-f13a-4b89-bfb2-476f19d78554\">\n",
              "    <div class=\"colab-df-container\">\n",
              "      <div>\n",
              "<style scoped>\n",
              "    .dataframe tbody tr th:only-of-type {\n",
              "        vertical-align: middle;\n",
              "    }\n",
              "\n",
              "    .dataframe tbody tr th {\n",
              "        vertical-align: top;\n",
              "    }\n",
              "\n",
              "    .dataframe thead th {\n",
              "        text-align: right;\n",
              "    }\n",
              "</style>\n",
              "<table border=\"1\" class=\"dataframe\">\n",
              "  <thead>\n",
              "    <tr style=\"text-align: right;\">\n",
              "      <th></th>\n",
              "      <th>Block 1</th>\n",
              "      <th>Block 2</th>\n",
              "      <th>Block 3</th>\n",
              "      <th>Block 4</th>\n",
              "      <th>Block 5</th>\n",
              "      <th>Block 6</th>\n",
              "      <th>sums</th>\n",
              "    </tr>\n",
              "  </thead>\n",
              "  <tbody>\n",
              "    <tr>\n",
              "      <th>0</th>\n",
              "      <td>90.30</td>\n",
              "      <td>89.2</td>\n",
              "      <td>98.2</td>\n",
              "      <td>93.90</td>\n",
              "      <td>87.40</td>\n",
              "      <td>97.90</td>\n",
              "      <td>556.90</td>\n",
              "    </tr>\n",
              "    <tr>\n",
              "      <th>1</th>\n",
              "      <td>92.50</td>\n",
              "      <td>89.5</td>\n",
              "      <td>90.6</td>\n",
              "      <td>94.70</td>\n",
              "      <td>87.00</td>\n",
              "      <td>95.80</td>\n",
              "      <td>550.10</td>\n",
              "    </tr>\n",
              "    <tr>\n",
              "      <th>2</th>\n",
              "      <td>85.50</td>\n",
              "      <td>90.8</td>\n",
              "      <td>89.6</td>\n",
              "      <td>86.20</td>\n",
              "      <td>88.00</td>\n",
              "      <td>93.40</td>\n",
              "      <td>533.50</td>\n",
              "    </tr>\n",
              "    <tr>\n",
              "      <th>3</th>\n",
              "      <td>82.50</td>\n",
              "      <td>89.5</td>\n",
              "      <td>85.6</td>\n",
              "      <td>87.40</td>\n",
              "      <td>78.90</td>\n",
              "      <td>90.70</td>\n",
              "      <td>514.60</td>\n",
              "    </tr>\n",
              "    <tr>\n",
              "      <th>4</th>\n",
              "      <td>350.80</td>\n",
              "      <td>359.0</td>\n",
              "      <td>364.0</td>\n",
              "      <td>362.20</td>\n",
              "      <td>341.30</td>\n",
              "      <td>377.80</td>\n",
              "      <td>2155.10</td>\n",
              "    </tr>\n",
              "    <tr>\n",
              "      <th>5</th>\n",
              "      <td>123060.64</td>\n",
              "      <td>128881.0</td>\n",
              "      <td>132496.0</td>\n",
              "      <td>131188.84</td>\n",
              "      <td>116485.69</td>\n",
              "      <td>142732.84</td>\n",
              "      <td>774845.01</td>\n",
              "    </tr>\n",
              "  </tbody>\n",
              "</table>\n",
              "</div>\n",
              "      <button class=\"colab-df-convert\" onclick=\"convertToInteractive('df-56d6839e-f13a-4b89-bfb2-476f19d78554')\"\n",
              "              title=\"Convert this dataframe to an interactive table.\"\n",
              "              style=\"display:none;\">\n",
              "        \n",
              "  <svg xmlns=\"http://www.w3.org/2000/svg\" height=\"24px\"viewBox=\"0 0 24 24\"\n",
              "       width=\"24px\">\n",
              "    <path d=\"M0 0h24v24H0V0z\" fill=\"none\"/>\n",
              "    <path d=\"M18.56 5.44l.94 2.06.94-2.06 2.06-.94-2.06-.94-.94-2.06-.94 2.06-2.06.94zm-11 1L8.5 8.5l.94-2.06 2.06-.94-2.06-.94L8.5 2.5l-.94 2.06-2.06.94zm10 10l.94 2.06.94-2.06 2.06-.94-2.06-.94-.94-2.06-.94 2.06-2.06.94z\"/><path d=\"M17.41 7.96l-1.37-1.37c-.4-.4-.92-.59-1.43-.59-.52 0-1.04.2-1.43.59L10.3 9.45l-7.72 7.72c-.78.78-.78 2.05 0 2.83L4 21.41c.39.39.9.59 1.41.59.51 0 1.02-.2 1.41-.59l7.78-7.78 2.81-2.81c.8-.78.8-2.07 0-2.86zM5.41 20L4 18.59l7.72-7.72 1.47 1.35L5.41 20z\"/>\n",
              "  </svg>\n",
              "      </button>\n",
              "      \n",
              "  <style>\n",
              "    .colab-df-container {\n",
              "      display:flex;\n",
              "      flex-wrap:wrap;\n",
              "      gap: 12px;\n",
              "    }\n",
              "\n",
              "    .colab-df-convert {\n",
              "      background-color: #E8F0FE;\n",
              "      border: none;\n",
              "      border-radius: 50%;\n",
              "      cursor: pointer;\n",
              "      display: none;\n",
              "      fill: #1967D2;\n",
              "      height: 32px;\n",
              "      padding: 0 0 0 0;\n",
              "      width: 32px;\n",
              "    }\n",
              "\n",
              "    .colab-df-convert:hover {\n",
              "      background-color: #E2EBFA;\n",
              "      box-shadow: 0px 1px 2px rgba(60, 64, 67, 0.3), 0px 1px 3px 1px rgba(60, 64, 67, 0.15);\n",
              "      fill: #174EA6;\n",
              "    }\n",
              "\n",
              "    [theme=dark] .colab-df-convert {\n",
              "      background-color: #3B4455;\n",
              "      fill: #D2E3FC;\n",
              "    }\n",
              "\n",
              "    [theme=dark] .colab-df-convert:hover {\n",
              "      background-color: #434B5C;\n",
              "      box-shadow: 0px 1px 3px 1px rgba(0, 0, 0, 0.15);\n",
              "      filter: drop-shadow(0px 1px 2px rgba(0, 0, 0, 0.3));\n",
              "      fill: #FFFFFF;\n",
              "    }\n",
              "  </style>\n",
              "\n",
              "      <script>\n",
              "        const buttonEl =\n",
              "          document.querySelector('#df-56d6839e-f13a-4b89-bfb2-476f19d78554 button.colab-df-convert');\n",
              "        buttonEl.style.display =\n",
              "          google.colab.kernel.accessAllowed ? 'block' : 'none';\n",
              "\n",
              "        async function convertToInteractive(key) {\n",
              "          const element = document.querySelector('#df-56d6839e-f13a-4b89-bfb2-476f19d78554');\n",
              "          const dataTable =\n",
              "            await google.colab.kernel.invokeFunction('convertToInteractive',\n",
              "                                                     [key], {});\n",
              "          if (!dataTable) return;\n",
              "\n",
              "          const docLinkHtml = 'Like what you see? Visit the ' +\n",
              "            '<a target=\"_blank\" href=https://colab.research.google.com/notebooks/data_table.ipynb>data table notebook</a>'\n",
              "            + ' to learn more about interactive tables.';\n",
              "          element.innerHTML = '';\n",
              "          dataTable['output_type'] = 'display_data';\n",
              "          await google.colab.output.renderOutput(dataTable, element);\n",
              "          const docLink = document.createElement('div');\n",
              "          docLink.innerHTML = docLinkHtml;\n",
              "          element.appendChild(docLink);\n",
              "        }\n",
              "      </script>\n",
              "    </div>\n",
              "  </div>\n",
              "  "
            ],
            "text/plain": [
              "     Block 1   Block 2   Block 3    Block 4    Block 5    Block 6       sums\n",
              "0      90.30      89.2      98.2      93.90      87.40      97.90     556.90\n",
              "1      92.50      89.5      90.6      94.70      87.00      95.80     550.10\n",
              "2      85.50      90.8      89.6      86.20      88.00      93.40     533.50\n",
              "3      82.50      89.5      85.6      87.40      78.90      90.70     514.60\n",
              "4     350.80     359.0     364.0     362.20     341.30     377.80    2155.10\n",
              "5  123060.64  128881.0  132496.0  131188.84  116485.69  142732.84  774845.01"
            ]
          },
          "metadata": {},
          "execution_count": 326
        }
      ]
    },
    {
      "cell_type": "code",
      "source": [
        "sum_of_blocks_square = blocks_square_df['sums'][blocks_square_df.index[-1]]\n",
        "print(sum_of_blocks_square)"
      ],
      "metadata": {
        "colab": {
          "base_uri": "https://localhost:8080/"
        },
        "id": "0fNP-DdH-KzJ",
        "outputId": "f93424b0-aca0-4222-8e3f-603d8eac68f9"
      },
      "execution_count": 327,
      "outputs": [
        {
          "output_type": "stream",
          "name": "stdout",
          "text": [
            "774845.01\n"
          ]
        }
      ]
    },
    {
      "cell_type": "markdown",
      "source": [
        "### Calculate SS_Blocks "
      ],
      "metadata": {
        "id": "laRH4U2FGvLC"
      }
    },
    {
      "cell_type": "code",
      "source": [
        "ss_blocks = (sum_of_blocks_square/a) - (total_squared/n)\n",
        "print(ss_blocks)"
      ],
      "metadata": {
        "colab": {
          "base_uri": "https://localhost:8080/"
        },
        "id": "uA9UsI2_HnNe",
        "outputId": "24e60908-0114-45ae-bf46-a7719581a165"
      },
      "execution_count": 328,
      "outputs": [
        {
          "output_type": "stream",
          "name": "stdout",
          "text": [
            "192.25208333335468\n"
          ]
        }
      ]
    },
    {
      "cell_type": "markdown",
      "source": [
        "### Calculate SS_E"
      ],
      "metadata": {
        "id": "Wh8iZMkWK_5l"
      }
    },
    {
      "cell_type": "code",
      "source": [
        "SS_err = ss_total_div_n - ss_treatments - ss_blocks\n",
        "print(SS_err)"
      ],
      "metadata": {
        "colab": {
          "base_uri": "https://localhost:8080/"
        },
        "id": "ABFWI6QOK_is",
        "outputId": "a36ad66c-e441-4ecd-c00a-80280bfbebb6"
      },
      "execution_count": 329,
      "outputs": [
        {
          "output_type": "stream",
          "name": "stdout",
          "text": [
            "109.88624999998137\n"
          ]
        }
      ]
    },
    {
      "cell_type": "markdown",
      "source": [
        "### Calculate F stat\n"
      ],
      "metadata": {
        "id": "BSqBrPqlLsDW"
      }
    },
    {
      "cell_type": "code",
      "source": [
        "f_naught = (ss_treatments/(a-1))/(SS_err/((a-1)*(b-1)))\n",
        "print(f_naught)"
      ],
      "metadata": {
        "colab": {
          "base_uri": "https://localhost:8080/"
        },
        "id": "T88wyuamLuiB",
        "outputId": "00ecdd94-2769-41a4-c369-51736e1c7dce"
      },
      "execution_count": 330,
      "outputs": [
        {
          "output_type": "stream",
          "name": "stdout",
          "text": [
            "8.10707663606885\n"
          ]
        }
      ]
    }
  ]
}
